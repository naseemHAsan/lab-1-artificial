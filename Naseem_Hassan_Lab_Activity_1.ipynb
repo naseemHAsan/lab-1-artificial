{
  "nbformat": 4,
  "nbformat_minor": 0,
  "metadata": {
    "colab": {
      "provenance": [],
      "collapsed_sections": [],
      "toc_visible": true
    },
    "kernelspec": {
      "name": "python3",
      "display_name": "Python 3"
    },
    "language_info": {
      "name": "python"
    }
  },
  "cells": [
    {
      "cell_type": "code",
      "source": [
        "# Activity 1:\n",
        "# Let us take an integer from user as input \n",
        "# and check whether the given value is even or not.\n",
        "\n",
        "n = input('Enter a number ')\n",
        "if int(n) % 2 == 0:\n",
        "  print(n, 'is an even number')\n",
        "else:\n",
        "  print(n, 'is an odd number')  "
      ],
      "metadata": {
        "colab": {
          "base_uri": "https://localhost:8080/"
        },
        "id": "a3w-5ICiC2_F",
        "outputId": "3277fd3b-775a-4b5d-bde7-9158f02f506c"
      },
      "execution_count": 1,
      "outputs": [
        {
          "output_type": "stream",
          "name": "stdout",
          "text": [
            "Enter a number 59\n",
            "59 is an odd number\n"
          ]
        }
      ]
    },
    {
      "cell_type": "code",
      "source": [
        "# Activity 2:\n",
        "# Write a Python code to keep accepting integer values from user until 0 is entered. \n",
        "# Display sum of the given values.\n",
        "\n",
        "s = 0\n",
        "n = int(input('Enter an integer value '))\n",
        "while n != 0:\n",
        "  s = s + n\n",
        "  n = int(input('Enter an integer value '))\n",
        "print('Sum of the given values is ', s)"
      ],
      "metadata": {
        "colab": {
          "base_uri": "https://localhost:8080/"
        },
        "id": "JdBDqo8uEHF1",
        "outputId": "4d065718-cb0e-4bc4-b1e2-8d486613ba07"
      },
      "execution_count": 2,
      "outputs": [
        {
          "output_type": "stream",
          "name": "stdout",
          "text": [
            "Enter an integer value 10\n",
            "Enter an integer value 20\n",
            "Enter an integer value 30\n",
            "Enter an integer value 40\n",
            "Enter an integer value 50\n",
            "Enter an integer value 0\n",
            "Sum of the given values is  150\n"
          ]
        }
      ]
    },
    {
      "cell_type": "markdown",
      "source": [],
      "metadata": {
        "id": "HjSLhlgTEwrs"
      }
    },
    {
      "cell_type": "code",
      "source": [
        "# Activity 3:\n",
        "# Write a Python code to accept an integer value from user and check that \n",
        "# whether the given value is prime number or not.\n",
        "\n",
        "isPrime = True\n",
        "i = 2\n",
        "n = int(input('Enter a number '))\n",
        "while i < n:\n",
        "  remainder = n%i\n",
        "  if remainder == 0:\n",
        "    isPrime = False\n",
        "    break\n",
        "  else:\n",
        "    i = i + 1\n",
        "\n",
        "if isPrime:\n",
        "  print(n, ' is a prime number')\n",
        "else:\n",
        "  print(n, ' is not a prime number')"
      ],
      "metadata": {
        "colab": {
          "base_uri": "https://localhost:8080/"
        },
        "id": "tKzCIv0XFFJ2",
        "outputId": "70d3ed3d-7c3f-4450-bdc8-e28a5a3a4677"
      },
      "execution_count": 3,
      "outputs": [
        {
          "output_type": "stream",
          "name": "stdout",
          "text": [
            "Enter a number 23\n",
            "23  is a prime number\n"
          ]
        }
      ]
    },
    {
      "cell_type": "code",
      "source": [
        "# Activity 4:\n",
        "# Accept 5 integer values from user and display their sum. Draw flowchart before\n",
        "# coding in python.\n",
        "\n",
        "sum = 0\n",
        "i = 0\n",
        "while i <= 4:\n",
        "  n = int(input('enter a number '))\n",
        "  sum = sum + n\n",
        "  i = i + 1\n",
        "\n",
        "print('sum is ', sum)  "
      ],
      "metadata": {
        "colab": {
          "base_uri": "https://localhost:8080/"
        },
        "id": "40hq7eyeGlXc",
        "outputId": "9c3a7387-0eb8-46ef-d66c-2c0b979e0fbb"
      },
      "execution_count": 5,
      "outputs": [
        {
          "output_type": "stream",
          "name": "stdout",
          "text": [
            "enter a number 3\n",
            "enter a number 4\n",
            "enter a number 5\n",
            "enter a number 6\n",
            "enter a number 7\n",
            "sum is  25\n"
          ]
        }
      ]
    },
    {
      "cell_type": "code",
      "source": [
        "# Activity 5:\n",
        "# Calculate the sum of all the values between 0-10 using while loop.\n",
        "\n",
        "sum = 0\n",
        "i = 1\n",
        "while i <= 10:\n",
        "  sum = sum + i\n",
        "  i = i + 1\n",
        "\n",
        "print('sum is ', sum)"
      ],
      "metadata": {
        "colab": {
          "base_uri": "https://localhost:8080/"
        },
        "id": "FutXSVWMIA1L",
        "outputId": "f6cee074-8a53-4343-a25a-1a941dd014bb"
      },
      "execution_count": 6,
      "outputs": [
        {
          "output_type": "stream",
          "name": "stdout",
          "text": [
            "sum is  55\n"
          ]
        }
      ]
    },
    {
      "cell_type": "code",
      "source": [
        "# Activity 6:\n",
        "# Take input from the keyboard and use it in your program.\n",
        "\n",
        "name = input('What is your name? ')\n",
        "print('Your name is ', name)\n",
        "\n",
        "age = int(input('What is your age? '))\n",
        "print('Your age is ', age)\n",
        "\n",
        "gpa = float(input('What is your gpa? '))\n",
        "print('Your age is ', gpa)"
      ],
      "metadata": {
        "colab": {
          "base_uri": "https://localhost:8080/"
        },
        "id": "oTifXja3JLua",
        "outputId": "d1752aec-3e3f-40b8-dcd6-3a904d48af0e"
      },
      "execution_count": 7,
      "outputs": [
        {
          "output_type": "stream",
          "name": "stdout",
          "text": [
            "What is your name? khan\n",
            "Your name is  khan\n",
            "What is your age? 23\n",
            "Your age is  23\n",
            "What is your gpa? 2\n",
            "Your age is  2.0\n"
          ]
        }
      ]
    },
    {
      "cell_type": "code",
      "source": [
        "# Activity 7:\n",
        "# Generate a random number between 1 and 9 (including 1 and 9). \n",
        "# Ask the user to guess the number,\n",
        "# then tell them whether they guessed too low, too high, or exactly right. \n",
        "# (Hint: remember to use the\n",
        "# user input lessons from the very first exercise)\n",
        "# Extras:\n",
        "# Keep the game going until the user types “exit”\n",
        "# Keep track of how many guesses the user has taken, and when the game ends,\n",
        "# print this out.\n",
        "\n",
        "import random\n",
        "\n",
        "MIN = 1\n",
        "MAX = 9\n",
        "NUMBER = random.randint(MIN, MAX)\n",
        "GUESS = None\n",
        "ANOTHER = None\n",
        "TRY = 0\n",
        "RUNNING = True\n",
        "\n",
        "while RUNNING:\n",
        "  GUESS = input('What is your lucky number? ')\n",
        "  if int(GUESS) < NUMBER:\n",
        "    print('Wrong, too low')\n",
        "  elif int(GUESS) > NUMBER:\n",
        "    print('Wrong, too high')  \n",
        "  elif GUESS.lower() == 'exit':\n",
        "    print('Better luck next time')  \n",
        "  elif int(GUESS) == NUMBER:\n",
        "    print(\"Yes, that's the one, \", str(NUMBER))\n",
        "    if TRY < 2:\n",
        "      print('Impressive, only ' + str(TRY) + \"tries\")\n",
        "    elif TRY > 2 and TRY < 10:\n",
        "      print('Pretty good ' + str(TRY) + 'tries')\n",
        "    else:\n",
        "      print('Bad, ' + str(TRY) + 'tries') \n",
        "    RUNNING = False\n",
        "  TRY += 1"
      ],
      "metadata": {
        "id": "8u2wM8e8KlHS",
        "colab": {
          "base_uri": "https://localhost:8080/"
        },
        "outputId": "d4d7d12d-4a8c-45b2-f8a6-15826c81f532"
      },
      "execution_count": 8,
      "outputs": [
        {
          "output_type": "stream",
          "name": "stdout",
          "text": [
            "What is your lucky number? 4\n",
            "Wrong, too high\n",
            "What is your lucky number? 3\n",
            "Wrong, too high\n",
            "What is your lucky number? 2\n",
            "Wrong, too high\n",
            "What is your lucky number? 1\n",
            "Yes, that's the one,  1\n",
            "Pretty good 3tries\n"
          ]
        }
      ]
    },
    {
      "cell_type": "code",
      "source": [
        "# Lab Task 1:\n",
        "# Write a program that prompts the user to input an integer and \n",
        "# then outputs the number with the digits\n",
        "# reversed. For example, if the input is 12345, the output should be 54321\n",
        "\n",
        "n = int(input('Enter a number '))\n",
        "r = 0\n",
        " \n",
        "while(n > 0):\n",
        "    remainder = n % 10\n",
        "    r = r * 10 + remainder\n",
        "    n = n // 10\n",
        " \n",
        "print(\"The reverse is \", r)"
      ],
      "metadata": {
        "colab": {
          "base_uri": "https://localhost:8080/"
        },
        "id": "iwNvgM_5LraM",
        "outputId": "0dfcf994-e5e6-49de-dc99-19415442dc8e"
      },
      "execution_count": 9,
      "outputs": [
        {
          "output_type": "stream",
          "name": "stdout",
          "text": [
            "Enter a number 12345\n",
            "The reverse is  54321\n"
          ]
        }
      ]
    },
    {
      "cell_type": "code",
      "source": [
        "# Lab Task 2:\n",
        "# Write a program that reads a set of integers, \n",
        "# and then prints the sum of the even and odd integers.\n",
        "\n",
        "n = input('Enter a number ')\n",
        "evenSum = 0\n",
        "oddSum = 0\n",
        "\n",
        "for i in range(len(n)):\n",
        "  if int(n[i]) % 2 == 0:\n",
        "    evenSum = evenSum + int(n[i])\n",
        "  else:\n",
        "    oddSum = oddSum + int(n[i])\n",
        "\n",
        "print('Sum of even integers: ', evenSum)\n",
        "print('Sum of odd integers: ', oddSum)"
      ],
      "metadata": {
        "colab": {
          "base_uri": "https://localhost:8080/"
        },
        "id": "5cE-oC6JNRIl",
        "outputId": "bb8098de-56e2-490a-fdfa-17db49967d0e"
      },
      "execution_count": 12,
      "outputs": [
        {
          "output_type": "stream",
          "name": "stdout",
          "text": [
            "Enter a number 09876\n",
            "Sum of even integers:  14\n",
            "Sum of odd integers:  16\n"
          ]
        }
      ]
    },
    {
      "cell_type": "code",
      "source": [
        "# Lab Task 3:\n",
        "# Fibonacci series is that when you add the previous two numbers the next number is formed. \n",
        "# You have\n",
        "# to start from 0 and 1.\n",
        "# E.g. 0+1=1 → 1+1=2 → 1+2=3 → 2+3=5 → 3+5=8 → 5+8=13\n",
        "# So the series becomes\n",
        "# 0 1 1 2 3 5 8 13 21 34 55 ……………………………………\n",
        "# Steps: You have to take an input number that shows how many terms to be displayed.\n",
        "# Then use loops\n",
        "# for displaying the Fibonacci series up to that term e.g. input no is = 6 the output \n",
        "# should be 0 1 1 2 3 5\n",
        "\n",
        "i = 1\n",
        "n = int(input('How many terms do you want to displayed '))\n",
        "firstTerm = 0\n",
        "secondTerm = 1\n",
        "print('Fibonacci Series till ' + str(n) + ' terms:')\n",
        "\n",
        "while i <= n:\n",
        "  print(firstTerm)\n",
        "  nextTerm = firstTerm + secondTerm\n",
        "  firstTerm = secondTerm\n",
        "  secondTerm = nextTerm\n",
        "  i = i + 1"
      ],
      "metadata": {
        "colab": {
          "base_uri": "https://localhost:8080/"
        },
        "id": "Y_yZzHunQkAS",
        "outputId": "cd5bbbf0-ed34-4f49-de0e-c4e4c6efc98b"
      },
      "execution_count": 14,
      "outputs": [
        {
          "output_type": "stream",
          "name": "stdout",
          "text": [
            "How many terms do you want to displayed 5\n",
            "Fibonacci Series till 5 terms:\n",
            "0\n",
            "1\n",
            "1\n",
            "2\n",
            "3\n"
          ]
        }
      ]
    },
    {
      "cell_type": "code",
      "source": [
        "# Lab Task 4: \n",
        "# Write a Python code to accept marks of a student from 1-100 and \n",
        "# display the grade according to the\n",
        "# following formula.\n",
        "# Grade F if marks are less than 50\n",
        "# Grade E if marks are between 50 to 60\n",
        "# Grade D if marks are between 61 to 70\n",
        "# Grade C if marks are between 71 to 80\n",
        "# Grade B if marks are between 81 to 90\n",
        "# Grade A if marks are between 91 to 100\n",
        "\n",
        "\n",
        "n = int(input('Enter your marks '))\n",
        "\n",
        "if n <= 50:\n",
        "  print('Grade F')\n",
        "elif n >= 50 and n <= 60:\n",
        "   print('Grade E')  \n",
        "elif n >= 60 and n <= 70:\n",
        "   print('Grade D')\n",
        "elif n >= 70 and n <= 80:\n",
        "   print('Grade C')\n",
        "elif n >= 80 and n <= 90:\n",
        "   print('Grade B')\n",
        "elif n >= 90 and n <= 100:\n",
        "   print('Grade A')"
      ],
      "metadata": {
        "colab": {
          "base_uri": "https://localhost:8080/"
        },
        "id": "wubYROwoVN3r",
        "outputId": "2a682f9c-78f0-4b73-ee12-e9769e8b5b09"
      },
      "execution_count": 18,
      "outputs": [
        {
          "output_type": "stream",
          "name": "stdout",
          "text": [
            "Enter your marks 60\n",
            "Grade E\n"
          ]
        }
      ]
    },
    {
      "cell_type": "code",
      "source": [
        "# Lab Task 5:\n",
        "# Write a program that takes a number from user and \n",
        "# calculate the factorial of that number\n",
        "\n",
        "n = int(input(\"Enter a number \"))    \n",
        "factorial = 1    \n",
        "if n < 0:    \n",
        "   print(\"Factorial does not exist for negative numbers\")    \n",
        "elif n == 0:    \n",
        "   print(\"The factorial of \",n,\" is \", 1)  \n",
        "else:    \n",
        "   for i in range(1,n + 1):    \n",
        "       factorial = factorial * i    \n",
        "   print(\"The factorial of \",n,\" is \",factorial) "
      ],
      "metadata": {
        "colab": {
          "base_uri": "https://localhost:8080/"
        },
        "id": "mN-eJwhIVeSQ",
        "outputId": "470caa62-8af3-4bd5-c9e5-66b125030c4f"
      },
      "execution_count": 19,
      "outputs": [
        {
          "output_type": "stream",
          "name": "stdout",
          "text": [
            "Enter a number 8\n",
            "The factorial of  8  is  40320\n"
          ]
        }
      ]
    },
    {
      "cell_type": "code",
      "source": [],
      "metadata": {
        "id": "4zq9y7XVXNIy"
      },
      "execution_count": null,
      "outputs": []
    }
  ]
}